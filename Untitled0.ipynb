{
  "nbformat": 4,
  "nbformat_minor": 0,
  "metadata": {
    "colab": {
      "name": "Untitled0.ipynb",
      "provenance": [],
      "authorship_tag": "ABX9TyNtoPphrTTIL+YnHqQ2B065",
      "include_colab_link": true
    },
    "kernelspec": {
      "name": "python3",
      "display_name": "Python 3"
    }
  },
  "cells": [
    {
      "cell_type": "markdown",
      "metadata": {
        "id": "view-in-github",
        "colab_type": "text"
      },
      "source": [
        "<a href=\"https://colab.research.google.com/github/yourin/ADTransitionController/blob/master/Untitled0.ipynb\" target=\"_parent\"><img src=\"https://colab.research.google.com/assets/colab-badge.svg\" alt=\"Open In Colab\"/></a>"
      ]
    },
    {
      "cell_type": "code",
      "metadata": {
        "id": "ngSeeckM1i7Y",
        "colab_type": "code",
        "colab": {
          "base_uri": "https://localhost:8080/",
          "height": 34
        },
        "outputId": "4b8d151c-cd54-4cdf-885f-e3a59eb42be2"
      },
      "source": [
        "import pya3rt\n",
        "apikey = \"DZZEXfk6SahJ2mducFTrNPUbu9p8Y9BC\"\n",
        "\n",
        "client = pya3rt.TalkClient(apikey)\n",
        "reply_message = client.talk(\"いい天気ですね\")\n",
        "\n",
        "print(reply_message)\n"
      ],
      "execution_count": 4,
      "outputs": [
        {
          "output_type": "stream",
          "text": [
            "{'status': 0, 'message': 'ok', 'results': [{'perplexity': 0.12975786883239396, 'reply': '晴れてよかったです'}]}\n"
          ],
          "name": "stdout"
        }
      ]
    },
    {
      "cell_type": "code",
      "metadata": {
        "id": "INoXro6g0s1K",
        "colab_type": "code",
        "colab": {
          "base_uri": "https://localhost:8080/",
          "height": 51
        },
        "outputId": "a76056d2-cab7-40dd-ba06-46d0d4d42d68"
      },
      "source": [
        "!pip install pya3rt\n",
        "\n"
      ],
      "execution_count": 2,
      "outputs": [
        {
          "output_type": "stream",
          "text": [
            "Requirement already satisfied: pya3rt in /usr/local/lib/python3.6/dist-packages (1.1)\n",
            "Requirement already satisfied: requests==2.12.4 in /usr/local/lib/python3.6/dist-packages (from pya3rt) (2.12.4)\n"
          ],
          "name": "stdout"
        }
      ]
    }
  ]
}