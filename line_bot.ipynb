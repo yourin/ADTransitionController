{
  "nbformat": 4,
  "nbformat_minor": 0,
  "metadata": {
    "colab": {
      "name": "line_bot",
      "provenance": [],
      "authorship_tag": "ABX9TyN8DV7Quyjhf7e1rWssTzjG",
      "include_colab_link": true
    },
    "kernelspec": {
      "name": "python3",
      "display_name": "Python 3"
    }
  },
  "cells": [
    {
      "cell_type": "markdown",
      "metadata": {
        "id": "view-in-github",
        "colab_type": "text"
      },
      "source": [
        "<a href=\"https://colab.research.google.com/github/yourin/ADTransitionController/blob/master/line_bot.ipynb\" target=\"_parent\"><img src=\"https://colab.research.google.com/assets/colab-badge.svg\" alt=\"Open In Colab\"/></a>"
      ]
    },
    {
      "cell_type": "code",
      "metadata": {
        "id": "NrIOcoH18rIl",
        "colab_type": "code",
        "colab": {}
      },
      "source": [
        "!pip install pya3rt\n",
        "!pip install line-bot_sdk\n",
        "!pip install flask-ngrok"
      ],
      "execution_count": null,
      "outputs": []
    },
    {
      "cell_type": "code",
      "metadata": {
        "id": "nAQhnfa19Qqs",
        "colab_type": "code",
        "colab": {
          "base_uri": "https://localhost:8080/",
          "height": 153
        },
        "outputId": "ba42bab0-8ccd-400a-d992-7934d8b9ca5f"
      },
      "source": [
        "from flask import Flask,request,abort\n",
        "from linebot import LineBotApi,WebhookHandler\n",
        "from linebot.exceptions import InvalidSignatureError\n",
        "from linebot.models import MessageEvent, TextMessage, TextSendMessage\n",
        "import pya3rt\n",
        "from flask_ngrok import run_with_ngrok\n",
        "\n",
        "app = Flask(__name__)\n",
        "run_with_ngrok(app)\n",
        "\n",
        "line_bot_api = LineBotApi(\"uNJ5pDjXfYKMFrIJC/gAAIu0oATo2nhbxcbX5ylq/Dp3AuONxy9CYtvs\\\n",
        "UIeuEJsXnfiq3/BaWIEQK/1mAA+cDhzxMJqLRdpDhBsUVbDFdrw/La4wZNKVtHaJNpvN29mE2f60\\\n",
        "ifRHiQOG8nwRAGoqZgdB04t89/1O/w1cDnyilFU=\")\n",
        "\n",
        "handler = WebhookHandler(\"05b295679f45941afc81d0e9b91d7c6d\")\n",
        "\n",
        "@app.route(\"/callback\", methods=[\"POST\"])\n",
        "def callback():\n",
        "  signature = request.handlers[\"X-Line-Signature\"]\n",
        "  body = request.get_data(as_text=True)\n",
        "\n",
        "  try:\n",
        "    handler.handle(body, signature)\n",
        "  except InvalidSignatureError:\n",
        "    abort(400)\n",
        "  return \"OK\"\n",
        "\n",
        "@handler.add(MessageEvent, message=TextMessage)\n",
        "def handle_message(event):\n",
        "  ai_message = talk_ai(event.message.text)  #AIからのメッセージ\n",
        "  line_bot_api.reply_message(event.reply_tokun, TextSendMessage(text=ai_message))\n",
        "\n",
        "def talk_ai(word):\n",
        "  apikey = \"DZZEXfk6SahJ2mducFTrNPUbu9p8Y9BC\"\n",
        "  client = pya3rt.TalkClient(apikey)\n",
        "  reply_message = client.talk(word)\n",
        "  return reply_message[\"results\"][0][\"reply\"]\n",
        "\n",
        "  \n",
        "if __name__ == \"__main__\":\n",
        "  app.run()\n",
        "\n"
      ],
      "execution_count": 3,
      "outputs": [
        {
          "output_type": "stream",
          "text": [
            " * Serving Flask app \"__main__\" (lazy loading)\n",
            " * Environment: production\n",
            "\u001b[31m   WARNING: This is a development server. Do not use it in a production deployment.\u001b[0m\n",
            "\u001b[2m   Use a production WSGI server instead.\u001b[0m\n",
            " * Debug mode: off\n"
          ],
          "name": "stdout"
        },
        {
          "output_type": "stream",
          "text": [
            " * Running on http://127.0.0.1:5000/ (Press CTRL+C to quit)\n"
          ],
          "name": "stderr"
        },
        {
          "output_type": "stream",
          "text": [
            " * Running on http://4dc1888788d1.ngrok.io\n",
            " * Traffic stats available on http://127.0.0.1:4040\n"
          ],
          "name": "stdout"
        }
      ]
    }
  ]
}